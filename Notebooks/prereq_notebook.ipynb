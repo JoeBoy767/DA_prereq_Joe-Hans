{
 "cells": [
  {
   "cell_type": "code",
   "execution_count": 1,
   "id": "717a5ffe",
   "metadata": {},
   "outputs": [
    {
     "name": "stdout",
     "output_type": "stream",
     "text": [
      "I hate Git\n"
     ]
    }
   ],
   "source": [
    "print(\"I hate Git\")"
   ]
  },
  {
   "cell_type": "markdown",
   "id": "a85a9b1d",
   "metadata": {},
   "source": [
    "Hi, I'm Joe, a marketing professional hoping to upskill a bit with the Data Analysis pathway. While I consider myself pretty tech-savvy, I am definitely not a coder, but I'm excited to learn Python, although I hate Git."
   ]
  }
 ],
 "metadata": {
  "kernelspec": {
   "display_name": "Python 3",
   "language": "python",
   "name": "python3"
  },
  "language_info": {
   "codemirror_mode": {
    "name": "ipython",
    "version": 3
   },
   "file_extension": ".py",
   "mimetype": "text/x-python",
   "name": "python",
   "nbconvert_exporter": "python",
   "pygments_lexer": "ipython3",
   "version": "3.11.9"
  }
 },
 "nbformat": 4,
 "nbformat_minor": 5
}
